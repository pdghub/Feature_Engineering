{
 "cells": [
  {
   "cell_type": "markdown",
   "metadata": {},
   "source": [
    "# Missing Value"
   ]
  },
  {
   "cell_type": "markdown",
   "metadata": {},
   "source": [
    "Missing values are 3 types:\n",
    "1. MCAR: Missing Completely At Random : i.e., there is no relationship between missing data and other variable or other missing values in datasets\n",
    "\n",
    "Missing Completely at Random (MCAR):\n",
    "\n",
    "a)In MCAR, the missingness of data points is unrelated to both observed and unobserved data.\n",
    "b)This means that the probability of a data point being missing is the same for all data points, whether observed or not.\n",
    "c)In other words, there is no systematic pattern or reason for the missing values.\n",
    "MCAR is considered a favorable missing data mechanism because it doesn't introduce bias if data is missing at random.\n",
    "\n",
    "2. MNAR : Missing Not At Random : i.e., there is a relationship between missing data and other variable or other missing values in datasets\n",
    "\n",
    "Missing Not at Random (MNAR) or Non-Ignorable Missingness:\n",
    "\n",
    "a) In MNAR, the missingness of data points is related to unobserved data or factors that are not included in the dataset.\n",
    "b) This means that the probability of a data point being missing depends on the values of the missing data itself or on unobservable factors.\n",
    "c) MNAR is often the most challenging type of missing data to deal with because it can introduce bias and make it difficult to analyze the data accurately.\n",
    "\n",
    "3. MAR : Missing At Random : i.e., here is a relationship between missing data and other observed variable however not with other unobserved variable\n",
    "\n",
    "Missing at Random (MAR):\n",
    "\n",
    "a) In MAR, the missingness of data points is related to observed data but not unobserved data.\n",
    "b) This means that the probability of a data point being missing depends on the values of other observed variables.\n",
    "c) MAR is common in real-world data and can often be handled through appropriate statistical methods.\n"
   ]
  },
  {
   "cell_type": "markdown",
   "metadata": {},
   "source": [
    "Missing Data Handling:\n",
    "1. Mean/Median/Mode Implementation\n",
    "2. Random Sample Implementation\n",
    "3. Capturing NAN values with a new feature\n",
    "4. End Of Distribution Imputation\n",
    "5. Arbitary Value Imputation"
   ]
  },
  {
   "cell_type": "markdown",
   "metadata": {},
   "source": [
    "## Missing value Imputation For Numerical Variable:"
   ]
  },
  {
   "cell_type": "markdown",
   "metadata": {},
   "source": [
    "### Handling MCAR:\n",
    "\n",
    "1. Mean/Median/Mode Implementation\n",
    "2. Random Sample Implementation"
   ]
  },
  {
   "cell_type": "code",
   "execution_count": 31,
   "metadata": {},
   "outputs": [
    {
     "data": {
      "text/html": [
       "<div>\n",
       "<style scoped>\n",
       "    .dataframe tbody tr th:only-of-type {\n",
       "        vertical-align: middle;\n",
       "    }\n",
       "\n",
       "    .dataframe tbody tr th {\n",
       "        vertical-align: top;\n",
       "    }\n",
       "\n",
       "    .dataframe thead th {\n",
       "        text-align: right;\n",
       "    }\n",
       "</style>\n",
       "<table border=\"1\" class=\"dataframe\">\n",
       "  <thead>\n",
       "    <tr style=\"text-align: right;\">\n",
       "      <th></th>\n",
       "      <th>age</th>\n",
       "      <th>height</th>\n",
       "      <th>Name</th>\n",
       "    </tr>\n",
       "    <tr>\n",
       "      <th>year</th>\n",
       "      <th></th>\n",
       "      <th></th>\n",
       "      <th></th>\n",
       "    </tr>\n",
       "  </thead>\n",
       "  <tbody>\n",
       "    <tr>\n",
       "      <th>1994</th>\n",
       "      <td>24.0</td>\n",
       "      <td>5.4</td>\n",
       "      <td>Priya</td>\n",
       "    </tr>\n",
       "    <tr>\n",
       "      <th>1995</th>\n",
       "      <td>56.0</td>\n",
       "      <td>NaN</td>\n",
       "      <td>Arnab</td>\n",
       "    </tr>\n",
       "    <tr>\n",
       "      <th>2000</th>\n",
       "      <td>NaN</td>\n",
       "      <td>4.9</td>\n",
       "      <td>Rishi</td>\n",
       "    </tr>\n",
       "    <tr>\n",
       "      <th>1997</th>\n",
       "      <td>76.0</td>\n",
       "      <td>6.0</td>\n",
       "      <td>Konark</td>\n",
       "    </tr>\n",
       "    <tr>\n",
       "      <th>2020</th>\n",
       "      <td>NaN</td>\n",
       "      <td>4.0</td>\n",
       "      <td>None</td>\n",
       "    </tr>\n",
       "    <tr>\n",
       "      <th>1874</th>\n",
       "      <td>15.0</td>\n",
       "      <td>NaN</td>\n",
       "      <td>Kisha</td>\n",
       "    </tr>\n",
       "    <tr>\n",
       "      <th>2020</th>\n",
       "      <td>30.0</td>\n",
       "      <td>NaN</td>\n",
       "      <td>Radha</td>\n",
       "    </tr>\n",
       "    <tr>\n",
       "      <th>1976</th>\n",
       "      <td>NaN</td>\n",
       "      <td>NaN</td>\n",
       "      <td>None,</td>\n",
       "    </tr>\n",
       "  </tbody>\n",
       "</table>\n",
       "</div>"
      ],
      "text/plain": [
       "       age  height    Name\n",
       "year                      \n",
       "1994  24.0     5.4   Priya\n",
       "1995  56.0     NaN   Arnab\n",
       "2000   NaN     4.9   Rishi\n",
       "1997  76.0     6.0  Konark\n",
       "2020   NaN     4.0    None\n",
       "1874  15.0     NaN   Kisha\n",
       "2020  30.0     NaN   Radha\n",
       "1976   NaN     NaN   None,"
      ]
     },
     "execution_count": 31,
     "metadata": {},
     "output_type": "execute_result"
    }
   ],
   "source": [
    "import pandas as pd\n",
    "import numpy as np\n",
    "\n",
    "data = {\n",
    "    \"year\": [1994, 1995, 2000, 1997, 2020,1874,2020,1976],\n",
    "    \"age\": [24, 56, None, 76, None,15,30,None],  # Representing missing values as None\n",
    "    \"height\": [5.4, None, 4.9, 6.0, 4.0,None,None,None],  # Representing missing values as None\n",
    "    \"Name\": [\"Priya\", \"Arnab\", \"Rishi\", \"Konark\", None,\"Kisha\",\"Radha\",\"None,\"],  # Representing missing values as None\n",
    "}\n",
    "\n",
    "df = pd.DataFrame(data).set_index(\"year\")\n",
    "df"
   ]
  },
  {
   "cell_type": "code",
   "execution_count": 76,
   "metadata": {},
   "outputs": [
    {
     "data": {
      "text/plain": [
       "year\n",
       "1994    24.0\n",
       "1995    56.0\n",
       "2000     NaN\n",
       "1997    76.0\n",
       "2020     NaN\n",
       "1874    15.0\n",
       "2020    30.0\n",
       "1976     NaN\n",
       "Name: age_na, dtype: float64"
      ]
     },
     "execution_count": 76,
     "metadata": {},
     "output_type": "execute_result"
    }
   ],
   "source": [
    "df[\"age_na\"]=df[\"age\"]\n",
    "df[\"age_na\"]"
   ]
  },
  {
   "cell_type": "code",
   "execution_count": 69,
   "metadata": {},
   "outputs": [
    {
     "data": {
      "text/plain": [
       "year\n",
       "1997    76.0\n",
       "1994    24.0\n",
       "1995    56.0\n",
       "Name: age, dtype: float64"
      ]
     },
     "execution_count": 69,
     "metadata": {},
     "output_type": "execute_result"
    }
   ],
   "source": [
    "sample_val=df[\"age\"].dropna().sample(df[\"age\"].isnull().sum(),random_state=0)\n",
    "\n",
    "sample_val"
   ]
  },
  {
   "cell_type": "code",
   "execution_count": 70,
   "metadata": {},
   "outputs": [
    {
     "data": {
      "text/plain": [
       "Int64Index([2000, 2020, 1976], dtype='int64', name='year')"
      ]
     },
     "execution_count": 70,
     "metadata": {},
     "output_type": "execute_result"
    }
   ],
   "source": [
    "df[df[\"age\"].isnull()].index"
   ]
  },
  {
   "cell_type": "code",
   "execution_count": 71,
   "metadata": {},
   "outputs": [
    {
     "data": {
      "text/plain": [
       "year\n",
       "2000    76.0\n",
       "2020    24.0\n",
       "1976    56.0\n",
       "Name: age, dtype: float64"
      ]
     },
     "execution_count": 71,
     "metadata": {},
     "output_type": "execute_result"
    }
   ],
   "source": [
    "sample_val.index=df[df[\"age\"].isnull()].index\n",
    "sample_val"
   ]
  },
  {
   "cell_type": "code",
   "execution_count": 80,
   "metadata": {},
   "outputs": [],
   "source": [
    "df.loc[df[\"age\"].isnull(),\"age_na\"]=sample_val"
   ]
  },
  {
   "cell_type": "code",
   "execution_count": 81,
   "metadata": {},
   "outputs": [
    {
     "data": {
      "text/plain": [
       "year\n",
       "1994    24.0\n",
       "1995    56.0\n",
       "2000    76.0\n",
       "1997    76.0\n",
       "2020    24.0\n",
       "1874    15.0\n",
       "2020    30.0\n",
       "1976    56.0\n",
       "Name: age_na, dtype: float64"
      ]
     },
     "execution_count": 81,
     "metadata": {},
     "output_type": "execute_result"
    }
   ],
   "source": [
    "df[\"age_na\"]"
   ]
  },
  {
   "cell_type": "code",
   "execution_count": 95,
   "metadata": {},
   "outputs": [],
   "source": [
    "def impute_na(df,var,median):\n",
    "    df[var+\"_median\"]=df[var].fillna(median)\n",
    "    df[var+\"na\"]=df[var]\n",
    "    sample_val=df[var].dropna().sample(df[var].isnull().sum(),random_state=0)\n",
    "    sample_val.index=df[df[var].isnull()].index\n",
    "    df.loc[df[var].isnull(),var+\"na\"]=sample_val"
   ]
  },
  {
   "cell_type": "code",
   "execution_count": 96,
   "metadata": {},
   "outputs": [
    {
     "data": {
      "text/plain": [
       "5.15"
      ]
     },
     "execution_count": 96,
     "metadata": {},
     "output_type": "execute_result"
    }
   ],
   "source": [
    "median=df[\"height\"].median()\n",
    "median"
   ]
  },
  {
   "cell_type": "code",
   "execution_count": 97,
   "metadata": {},
   "outputs": [],
   "source": [
    "impute_na(df,\"height\",median)"
   ]
  },
  {
   "cell_type": "code",
   "execution_count": 98,
   "metadata": {},
   "outputs": [
    {
     "data": {
      "text/html": [
       "<div>\n",
       "<style scoped>\n",
       "    .dataframe tbody tr th:only-of-type {\n",
       "        vertical-align: middle;\n",
       "    }\n",
       "\n",
       "    .dataframe tbody tr th {\n",
       "        vertical-align: top;\n",
       "    }\n",
       "\n",
       "    .dataframe thead th {\n",
       "        text-align: right;\n",
       "    }\n",
       "</style>\n",
       "<table border=\"1\" class=\"dataframe\">\n",
       "  <thead>\n",
       "    <tr style=\"text-align: right;\">\n",
       "      <th></th>\n",
       "      <th>age</th>\n",
       "      <th>height</th>\n",
       "      <th>Name</th>\n",
       "      <th>age_na</th>\n",
       "      <th>heightna</th>\n",
       "      <th>agena</th>\n",
       "      <th>height_median</th>\n",
       "    </tr>\n",
       "    <tr>\n",
       "      <th>year</th>\n",
       "      <th></th>\n",
       "      <th></th>\n",
       "      <th></th>\n",
       "      <th></th>\n",
       "      <th></th>\n",
       "      <th></th>\n",
       "      <th></th>\n",
       "    </tr>\n",
       "  </thead>\n",
       "  <tbody>\n",
       "    <tr>\n",
       "      <th>1994</th>\n",
       "      <td>24.0</td>\n",
       "      <td>5.4</td>\n",
       "      <td>Priya</td>\n",
       "      <td>24.0</td>\n",
       "      <td>5.4</td>\n",
       "      <td>24.0</td>\n",
       "      <td>5.40</td>\n",
       "    </tr>\n",
       "    <tr>\n",
       "      <th>1995</th>\n",
       "      <td>56.0</td>\n",
       "      <td>NaN</td>\n",
       "      <td>Arnab</td>\n",
       "      <td>56.0</td>\n",
       "      <td>6.0</td>\n",
       "      <td>56.0</td>\n",
       "      <td>5.15</td>\n",
       "    </tr>\n",
       "    <tr>\n",
       "      <th>2000</th>\n",
       "      <td>NaN</td>\n",
       "      <td>4.9</td>\n",
       "      <td>Rishi</td>\n",
       "      <td>76.0</td>\n",
       "      <td>4.9</td>\n",
       "      <td>76.0</td>\n",
       "      <td>4.90</td>\n",
       "    </tr>\n",
       "    <tr>\n",
       "      <th>1997</th>\n",
       "      <td>76.0</td>\n",
       "      <td>6.0</td>\n",
       "      <td>Konark</td>\n",
       "      <td>76.0</td>\n",
       "      <td>6.0</td>\n",
       "      <td>76.0</td>\n",
       "      <td>6.00</td>\n",
       "    </tr>\n",
       "    <tr>\n",
       "      <th>2020</th>\n",
       "      <td>NaN</td>\n",
       "      <td>4.0</td>\n",
       "      <td>None</td>\n",
       "      <td>24.0</td>\n",
       "      <td>4.0</td>\n",
       "      <td>24.0</td>\n",
       "      <td>4.00</td>\n",
       "    </tr>\n",
       "  </tbody>\n",
       "</table>\n",
       "</div>"
      ],
      "text/plain": [
       "       age  height    Name  age_na  heightna  agena  height_median\n",
       "year                                                              \n",
       "1994  24.0     5.4   Priya    24.0       5.4   24.0           5.40\n",
       "1995  56.0     NaN   Arnab    56.0       6.0   56.0           5.15\n",
       "2000   NaN     4.9   Rishi    76.0       4.9   76.0           4.90\n",
       "1997  76.0     6.0  Konark    76.0       6.0   76.0           6.00\n",
       "2020   NaN     4.0    None    24.0       4.0   24.0           4.00"
      ]
     },
     "execution_count": 98,
     "metadata": {},
     "output_type": "execute_result"
    }
   ],
   "source": [
    "df.head()"
   ]
  },
  {
   "cell_type": "code",
   "execution_count": 114,
   "metadata": {},
   "outputs": [
    {
     "data": {
      "image/png": "[encoded data removed]",
      "text/plain": [
       "<Figure size 432x576 with 1 Axes>"
      ]
     },
     "metadata": {
      "needs_background": "light"
     },
     "output_type": "display_data"
    }
   ],
   "source": [
    "import matplotlib.pyplot as plt\n",
    "%matplotlib inline\n",
    "fig, axes = plt.subplots(nrows=1, ncols=1, figsize=(6, 8))\n",
    "df[\"height\"].plot(kind=\"kde\",axes=axes,color=\"red\")\n",
    "df[\"heightna\"].plot(kind=\"kde\",axes=axes,color=\"black\",linestyle=\"--\")\n",
    "df[\"height_median\"].plot(kind=\"kde\",axes=axes,color=\"blue\",linestyle=\"-.\")\n",
    "plt.legend()\n",
    "plt.show()"
   ]
  },
  {
   "cell_type": "markdown",
   "metadata": {},
   "source": [
    "Mean-Median_mode Advantage Disadvantage:\n",
    "Advantage:\n",
    "1. Easy to implement\n",
    "2. Easy to understand\n",
    "3. Faster way to get complete dataset\n",
    "\n",
    "Disadvantage:\n",
    "1. Distortion of variance\n",
    "2. For mean specifically prone to outlier\n",
    "3. impacts correlation"
   ]
  },
  {
   "cell_type": "markdown",
   "metadata": {},
   "source": [
    "Random_sample_implementation Advantage Disadvantage:\n",
    "Advantage:\n",
    "1. Easy to implement\n",
    "2. Easy to understand\n",
    "3. Faster way to get complete dataset\n",
    "4. There is less distortion of variance\n",
    "\n",
    "Disadvantage:\n",
    "1. Every situation randomness wont work"
   ]
  },
  {
   "cell_type": "raw",
   "metadata": {},
   "source": []
  },
  {
   "cell_type": "markdown",
   "metadata": {},
   "source": [
    "3. Capturing NAN values with a new feature\n",
    "\n",
    "it works for MNAR data"
   ]
  },
  {
   "cell_type": "code",
   "execution_count": 146,
   "metadata": {},
   "outputs": [
    {
     "data": {
      "text/html": [
       "<div>\n",
       "<style scoped>\n",
       "    .dataframe tbody tr th:only-of-type {\n",
       "        vertical-align: middle;\n",
       "    }\n",
       "\n",
       "    .dataframe tbody tr th {\n",
       "        vertical-align: top;\n",
       "    }\n",
       "\n",
       "    .dataframe thead th {\n",
       "        text-align: right;\n",
       "    }\n",
       "</style>\n",
       "<table border=\"1\" class=\"dataframe\">\n",
       "  <thead>\n",
       "    <tr style=\"text-align: right;\">\n",
       "      <th></th>\n",
       "      <th>ages</th>\n",
       "      <th>height</th>\n",
       "      <th>Name</th>\n",
       "    </tr>\n",
       "    <tr>\n",
       "      <th>year</th>\n",
       "      <th></th>\n",
       "      <th></th>\n",
       "      <th></th>\n",
       "    </tr>\n",
       "  </thead>\n",
       "  <tbody>\n",
       "    <tr>\n",
       "      <th>1994</th>\n",
       "      <td>24.0</td>\n",
       "      <td>5.4</td>\n",
       "      <td>Priya</td>\n",
       "    </tr>\n",
       "    <tr>\n",
       "      <th>1995</th>\n",
       "      <td>56.0</td>\n",
       "      <td>NaN</td>\n",
       "      <td>Arnab</td>\n",
       "    </tr>\n",
       "    <tr>\n",
       "      <th>2000</th>\n",
       "      <td>NaN</td>\n",
       "      <td>4.9</td>\n",
       "      <td>Rishi</td>\n",
       "    </tr>\n",
       "    <tr>\n",
       "      <th>1997</th>\n",
       "      <td>76.0</td>\n",
       "      <td>6.0</td>\n",
       "      <td>Konark</td>\n",
       "    </tr>\n",
       "    <tr>\n",
       "      <th>2020</th>\n",
       "      <td>NaN</td>\n",
       "      <td>4.0</td>\n",
       "      <td>None</td>\n",
       "    </tr>\n",
       "    <tr>\n",
       "      <th>1874</th>\n",
       "      <td>15.0</td>\n",
       "      <td>NaN</td>\n",
       "      <td>Kisha</td>\n",
       "    </tr>\n",
       "    <tr>\n",
       "      <th>2020</th>\n",
       "      <td>30.0</td>\n",
       "      <td>NaN</td>\n",
       "      <td>Radha</td>\n",
       "    </tr>\n",
       "    <tr>\n",
       "      <th>1976</th>\n",
       "      <td>NaN</td>\n",
       "      <td>NaN</td>\n",
       "      <td>None,</td>\n",
       "    </tr>\n",
       "  </tbody>\n",
       "</table>\n",
       "</div>"
      ],
      "text/plain": [
       "      ages  height    Name\n",
       "year                      \n",
       "1994  24.0     5.4   Priya\n",
       "1995  56.0     NaN   Arnab\n",
       "2000   NaN     4.9   Rishi\n",
       "1997  76.0     6.0  Konark\n",
       "2020   NaN     4.0    None\n",
       "1874  15.0     NaN   Kisha\n",
       "2020  30.0     NaN   Radha\n",
       "1976   NaN     NaN   None,"
      ]
     },
     "execution_count": 146,
     "metadata": {},
     "output_type": "execute_result"
    }
   ],
   "source": [
    "import pandas as pd\n",
    "import numpy as np\n",
    "\n",
    "data = {\n",
    "    \"year\": [1994, 1995, 2000, 1997, 2020,1874,2020,1976],\n",
    "    \"ages\": [24, 56, None, 76, None,15,30,None],  # Representing missing values as None\n",
    "    \"height\": [5.4, None, 4.9, 6.0, 4.0,None,None,None],  # Representing missing values as None\n",
    "    \"Name\": [\"Priya\", \"Arnab\", \"Rishi\", \"Konark\", None,\"Kisha\",\"Radha\",\"None,\"],  # Representing missing values as None\n",
    "}\n",
    "\n",
    "df = pd.DataFrame(data).set_index(\"year\")\n",
    "df"
   ]
  },
  {
   "cell_type": "code",
   "execution_count": 147,
   "metadata": {},
   "outputs": [],
   "source": [
    "df[\"age_na\"]=np.where(df.ages.isnull(),1,0)"
   ]
  },
  {
   "cell_type": "code",
   "execution_count": 148,
   "metadata": {},
   "outputs": [
    {
     "data": {
      "text/plain": [
       "year\n",
       "1994    0\n",
       "1995    0\n",
       "2000    1\n",
       "1997    0\n",
       "2020    1\n",
       "1874    0\n",
       "2020    0\n",
       "1976    1\n",
       "Name: age_na, dtype: int32"
      ]
     },
     "execution_count": 148,
     "metadata": {},
     "output_type": "execute_result"
    }
   ],
   "source": [
    "df[\"age_na\"]"
   ]
  },
  {
   "cell_type": "code",
   "execution_count": 149,
   "metadata": {},
   "outputs": [
    {
     "data": {
      "text/html": [
       "<div>\n",
       "<style scoped>\n",
       "    .dataframe tbody tr th:only-of-type {\n",
       "        vertical-align: middle;\n",
       "    }\n",
       "\n",
       "    .dataframe tbody tr th {\n",
       "        vertical-align: top;\n",
       "    }\n",
       "\n",
       "    .dataframe thead th {\n",
       "        text-align: right;\n",
       "    }\n",
       "</style>\n",
       "<table border=\"1\" class=\"dataframe\">\n",
       "  <thead>\n",
       "    <tr style=\"text-align: right;\">\n",
       "      <th></th>\n",
       "      <th>ages</th>\n",
       "      <th>height</th>\n",
       "      <th>Name</th>\n",
       "      <th>age_na</th>\n",
       "    </tr>\n",
       "    <tr>\n",
       "      <th>year</th>\n",
       "      <th></th>\n",
       "      <th></th>\n",
       "      <th></th>\n",
       "      <th></th>\n",
       "    </tr>\n",
       "  </thead>\n",
       "  <tbody>\n",
       "    <tr>\n",
       "      <th>1994</th>\n",
       "      <td>24</td>\n",
       "      <td>5.4</td>\n",
       "      <td>Priya</td>\n",
       "      <td>0</td>\n",
       "    </tr>\n",
       "    <tr>\n",
       "      <th>1995</th>\n",
       "      <td>56</td>\n",
       "      <td>NaN</td>\n",
       "      <td>Arnab</td>\n",
       "      <td>0</td>\n",
       "    </tr>\n",
       "    <tr>\n",
       "      <th>2000</th>\n",
       "      <td>30</td>\n",
       "      <td>4.9</td>\n",
       "      <td>Rishi</td>\n",
       "      <td>1</td>\n",
       "    </tr>\n",
       "    <tr>\n",
       "      <th>1997</th>\n",
       "      <td>76</td>\n",
       "      <td>6.0</td>\n",
       "      <td>Konark</td>\n",
       "      <td>0</td>\n",
       "    </tr>\n",
       "    <tr>\n",
       "      <th>2020</th>\n",
       "      <td>30</td>\n",
       "      <td>4.0</td>\n",
       "      <td>None</td>\n",
       "      <td>1</td>\n",
       "    </tr>\n",
       "    <tr>\n",
       "      <th>1874</th>\n",
       "      <td>15</td>\n",
       "      <td>NaN</td>\n",
       "      <td>Kisha</td>\n",
       "      <td>0</td>\n",
       "    </tr>\n",
       "    <tr>\n",
       "      <th>2020</th>\n",
       "      <td>30</td>\n",
       "      <td>NaN</td>\n",
       "      <td>Radha</td>\n",
       "      <td>0</td>\n",
       "    </tr>\n",
       "    <tr>\n",
       "      <th>1976</th>\n",
       "      <td>30</td>\n",
       "      <td>NaN</td>\n",
       "      <td>None,</td>\n",
       "      <td>1</td>\n",
       "    </tr>\n",
       "  </tbody>\n",
       "</table>\n",
       "</div>"
      ],
      "text/plain": [
       "     ages  height    Name  age_na\n",
       "year                             \n",
       "1994   24     5.4   Priya       0\n",
       "1995   56     NaN   Arnab       0\n",
       "2000   30     4.9   Rishi       1\n",
       "1997   76     6.0  Konark       0\n",
       "2020   30     4.0    None       1\n",
       "1874   15     NaN   Kisha       0\n",
       "2020   30     NaN   Radha       0\n",
       "1976   30     NaN   None,       1"
      ]
     },
     "execution_count": 149,
     "metadata": {},
     "output_type": "execute_result"
    }
   ],
   "source": [
    "df[\"ages\"]=df.fillna(df[\"ages\"].median())\n",
    "df\n"
   ]
  },
  {
   "cell_type": "markdown",
   "metadata": {},
   "source": [
    "Advantage:\n",
    "1. Easy to implement\n",
    "2. capture the importance of missing values\n",
    "\n",
    "Disadvantages:\n",
    "1. For highnumber of features, leads to curse of dimentionality as it will create new column for a particula feature with missing value\n",
    "However it is absolutely fine for less number of column\n"
   ]
  },
  {
   "cell_type": "raw",
   "metadata": {},
   "source": []
  },
  {
   "cell_type": "markdown",
   "metadata": {},
   "source": [
    "#### 4. End Of Distribution Imputation\n",
    "\n",
    "works in MNAR"
   ]
  },
  {
   "cell_type": "code",
   "execution_count": 151,
   "metadata": {},
   "outputs": [
    {
     "data": {
      "text/html": [
       "<div>\n",
       "<style scoped>\n",
       "    .dataframe tbody tr th:only-of-type {\n",
       "        vertical-align: middle;\n",
       "    }\n",
       "\n",
       "    .dataframe tbody tr th {\n",
       "        vertical-align: top;\n",
       "    }\n",
       "\n",
       "    .dataframe thead th {\n",
       "        text-align: right;\n",
       "    }\n",
       "</style>\n",
       "<table border=\"1\" class=\"dataframe\">\n",
       "  <thead>\n",
       "    <tr style=\"text-align: right;\">\n",
       "      <th></th>\n",
       "      <th>ages</th>\n",
       "      <th>height</th>\n",
       "      <th>Name</th>\n",
       "    </tr>\n",
       "    <tr>\n",
       "      <th>year</th>\n",
       "      <th></th>\n",
       "      <th></th>\n",
       "      <th></th>\n",
       "    </tr>\n",
       "  </thead>\n",
       "  <tbody>\n",
       "    <tr>\n",
       "      <th>1994</th>\n",
       "      <td>24.0</td>\n",
       "      <td>5.4</td>\n",
       "      <td>Priya</td>\n",
       "    </tr>\n",
       "    <tr>\n",
       "      <th>1995</th>\n",
       "      <td>56.0</td>\n",
       "      <td>NaN</td>\n",
       "      <td>Arnab</td>\n",
       "    </tr>\n",
       "    <tr>\n",
       "      <th>2000</th>\n",
       "      <td>NaN</td>\n",
       "      <td>4.9</td>\n",
       "      <td>Rishi</td>\n",
       "    </tr>\n",
       "    <tr>\n",
       "      <th>1997</th>\n",
       "      <td>76.0</td>\n",
       "      <td>6.0</td>\n",
       "      <td>Konark</td>\n",
       "    </tr>\n",
       "    <tr>\n",
       "      <th>2020</th>\n",
       "      <td>NaN</td>\n",
       "      <td>4.0</td>\n",
       "      <td>None</td>\n",
       "    </tr>\n",
       "    <tr>\n",
       "      <th>1874</th>\n",
       "      <td>15.0</td>\n",
       "      <td>NaN</td>\n",
       "      <td>Kisha</td>\n",
       "    </tr>\n",
       "    <tr>\n",
       "      <th>2020</th>\n",
       "      <td>30.0</td>\n",
       "      <td>NaN</td>\n",
       "      <td>Radha</td>\n",
       "    </tr>\n",
       "    <tr>\n",
       "      <th>1976</th>\n",
       "      <td>NaN</td>\n",
       "      <td>NaN</td>\n",
       "      <td>None,</td>\n",
       "    </tr>\n",
       "  </tbody>\n",
       "</table>\n",
       "</div>"
      ],
      "text/plain": [
       "      ages  height    Name\n",
       "year                      \n",
       "1994  24.0     5.4   Priya\n",
       "1995  56.0     NaN   Arnab\n",
       "2000   NaN     4.9   Rishi\n",
       "1997  76.0     6.0  Konark\n",
       "2020   NaN     4.0    None\n",
       "1874  15.0     NaN   Kisha\n",
       "2020  30.0     NaN   Radha\n",
       "1976   NaN     NaN   None,"
      ]
     },
     "execution_count": 151,
     "metadata": {},
     "output_type": "execute_result"
    }
   ],
   "source": [
    "import pandas as pd\n",
    "import numpy as np\n",
    "\n",
    "data = {\n",
    "    \"year\": [1994, 1995, 2000, 1997, 2020,1874,2020,1976],\n",
    "    \"ages\": [24, 56, None, 76, None,15,30,None],  # Representing missing values as None\n",
    "    \"height\": [5.4, None, 4.9, 6.0, 4.0,None,None,None],  # Representing missing values as None\n",
    "    \"Name\": [\"Priya\", \"Arnab\", \"Rishi\", \"Konark\", None,\"Kisha\",\"Radha\",\"None,\"],  # Representing missing values as None\n",
    "}\n",
    "\n",
    "df = pd.DataFrame(data).set_index(\"year\")\n",
    "df"
   ]
  },
  {
   "cell_type": "code",
   "execution_count": 160,
   "metadata": {},
   "outputs": [],
   "source": [
    "def impute_na(df,var,extreeme):\n",
    "    df[var+\"_extreem\"]=df[var].fillna(extreem)"
   ]
  },
  {
   "cell_type": "code",
   "execution_count": 161,
   "metadata": {},
   "outputs": [
    {
     "data": {
      "text/plain": [
       "115.69039674024769"
      ]
     },
     "execution_count": 161,
     "metadata": {},
     "output_type": "execute_result"
    }
   ],
   "source": [
    "extreem=df[\"ages\"].mean()+3*df[\"ages\"].std()\n",
    "extreem"
   ]
  },
  {
   "cell_type": "code",
   "execution_count": 162,
   "metadata": {},
   "outputs": [],
   "source": [
    "impute_na(df,\"ages\",extreem)"
   ]
  },
  {
   "cell_type": "code",
   "execution_count": 163,
   "metadata": {},
   "outputs": [
    {
     "data": {
      "text/html": [
       "<div>\n",
       "<style scoped>\n",
       "    .dataframe tbody tr th:only-of-type {\n",
       "        vertical-align: middle;\n",
       "    }\n",
       "\n",
       "    .dataframe tbody tr th {\n",
       "        vertical-align: top;\n",
       "    }\n",
       "\n",
       "    .dataframe thead th {\n",
       "        text-align: right;\n",
       "    }\n",
       "</style>\n",
       "<table border=\"1\" class=\"dataframe\">\n",
       "  <thead>\n",
       "    <tr style=\"text-align: right;\">\n",
       "      <th></th>\n",
       "      <th>ages</th>\n",
       "      <th>height</th>\n",
       "      <th>Name</th>\n",
       "      <th>ages_extreem</th>\n",
       "    </tr>\n",
       "    <tr>\n",
       "      <th>year</th>\n",
       "      <th></th>\n",
       "      <th></th>\n",
       "      <th></th>\n",
       "      <th></th>\n",
       "    </tr>\n",
       "  </thead>\n",
       "  <tbody>\n",
       "    <tr>\n",
       "      <th>1994</th>\n",
       "      <td>24.0</td>\n",
       "      <td>5.4</td>\n",
       "      <td>Priya</td>\n",
       "      <td>24.000000</td>\n",
       "    </tr>\n",
       "    <tr>\n",
       "      <th>1995</th>\n",
       "      <td>56.0</td>\n",
       "      <td>NaN</td>\n",
       "      <td>Arnab</td>\n",
       "      <td>56.000000</td>\n",
       "    </tr>\n",
       "    <tr>\n",
       "      <th>2000</th>\n",
       "      <td>NaN</td>\n",
       "      <td>4.9</td>\n",
       "      <td>Rishi</td>\n",
       "      <td>115.690397</td>\n",
       "    </tr>\n",
       "    <tr>\n",
       "      <th>1997</th>\n",
       "      <td>76.0</td>\n",
       "      <td>6.0</td>\n",
       "      <td>Konark</td>\n",
       "      <td>76.000000</td>\n",
       "    </tr>\n",
       "    <tr>\n",
       "      <th>2020</th>\n",
       "      <td>NaN</td>\n",
       "      <td>4.0</td>\n",
       "      <td>None</td>\n",
       "      <td>115.690397</td>\n",
       "    </tr>\n",
       "    <tr>\n",
       "      <th>1874</th>\n",
       "      <td>15.0</td>\n",
       "      <td>NaN</td>\n",
       "      <td>Kisha</td>\n",
       "      <td>15.000000</td>\n",
       "    </tr>\n",
       "    <tr>\n",
       "      <th>2020</th>\n",
       "      <td>30.0</td>\n",
       "      <td>NaN</td>\n",
       "      <td>Radha</td>\n",
       "      <td>30.000000</td>\n",
       "    </tr>\n",
       "    <tr>\n",
       "      <th>1976</th>\n",
       "      <td>NaN</td>\n",
       "      <td>NaN</td>\n",
       "      <td>None,</td>\n",
       "      <td>115.690397</td>\n",
       "    </tr>\n",
       "  </tbody>\n",
       "</table>\n",
       "</div>"
      ],
      "text/plain": [
       "      ages  height    Name  ages_extreem\n",
       "year                                    \n",
       "1994  24.0     5.4   Priya     24.000000\n",
       "1995  56.0     NaN   Arnab     56.000000\n",
       "2000   NaN     4.9   Rishi    115.690397\n",
       "1997  76.0     6.0  Konark     76.000000\n",
       "2020   NaN     4.0    None    115.690397\n",
       "1874  15.0     NaN   Kisha     15.000000\n",
       "2020  30.0     NaN   Radha     30.000000\n",
       "1976   NaN     NaN   None,    115.690397"
      ]
     },
     "execution_count": 163,
     "metadata": {},
     "output_type": "execute_result"
    }
   ],
   "source": [
    "df"
   ]
  },
  {
   "cell_type": "code",
   "execution_count": 172,
   "metadata": {},
   "outputs": [
    {
     "name": "stderr",
     "output_type": "stream",
     "text": [
      "No handles with labels found to put in legend.\n"
     ]
    },
    {
     "data": {
      "text/plain": [
       "<matplotlib.legend.Legend at 0x2a78ca65760>"
      ]
     },
     "execution_count": 172,
     "metadata": {},
     "output_type": "execute_result"
    },
    {
     "data": {
      "image/png": "[encoded data removed]",
      "text/plain": [
       "<Figure size 432x288 with 1 Axes>"
      ]
     },
     "metadata": {
      "needs_background": "light"
     },
     "output_type": "display_data"
    }
   ],
   "source": [
    "\n",
    "df[\"ages\"].hist()\n",
    "df[\"ages_extreem\"].hist()\n",
    "plt.legend()"
   ]
  },
  {
   "cell_type": "markdown",
   "metadata": {},
   "source": [
    "#### Advantages:\n",
    "\n",
    "Simple to Implement: End-of-distribution imputation is easy to implement, making it a quick and straightforward solution for handling missing values.\n",
    "\n",
    "Preserves Data Distribution: By replacing missing values with extreme values from the distribution, it can help preserve the general characteristics and patterns of the data.\n",
    "\n",
    "Useful for Outliers: It can be effective when missing values are associated with outliers or rare events, as it replaces them with values that are already extreme.\n",
    "\n",
    "Applicable to Numeric Data: This technique is primarily used for numerical data, making it suitable for continuous or interval data types.\n",
    "\n",
    "#### Disadvantages:\n",
    "\n",
    "Potential Distortion: End-of-distribution imputation can distort the original data distribution, especially if the missing values are not truly extreme or if they follow a different pattern.\n",
    "\n",
    "Sensitive to Outliers: It can be sensitive to outliers because it replaces missing values with extreme values, potentially exaggerating the presence of outliers.\n",
    "\n",
    "Loss of Information: When missing values are replaced with extreme values, it may result in a loss of information and introduce bias, particularly if the missing values are not related to extreme conditions.\n",
    "\n",
    "Not Suitable for Categorical Data: End-of-distribution imputation is typically not suitable for categorical or nominal data, as it's designed for numerical values.\n",
    "\n",
    "May Affect Statistical Measures: It can impact statistical measures such as means, variances, and correlations, leading to inaccurate summaries of the data.\n"
   ]
  },
  {
   "cell_type": "markdown",
   "metadata": {},
   "source": [
    "### 5. Arbitary Value Imputation"
   ]
  },
  {
   "cell_type": "markdown",
   "metadata": {},
   "source": [
    "impute nan value by any arbitary value which is not present in the observation of that feature"
   ]
  },
  {
   "cell_type": "code",
   "execution_count": 174,
   "metadata": {},
   "outputs": [
    {
     "data": {
      "text/html": [
       "<div>\n",
       "<style scoped>\n",
       "    .dataframe tbody tr th:only-of-type {\n",
       "        vertical-align: middle;\n",
       "    }\n",
       "\n",
       "    .dataframe tbody tr th {\n",
       "        vertical-align: top;\n",
       "    }\n",
       "\n",
       "    .dataframe thead th {\n",
       "        text-align: right;\n",
       "    }\n",
       "</style>\n",
       "<table border=\"1\" class=\"dataframe\">\n",
       "  <thead>\n",
       "    <tr style=\"text-align: right;\">\n",
       "      <th></th>\n",
       "      <th>ages</th>\n",
       "      <th>height</th>\n",
       "      <th>Name</th>\n",
       "    </tr>\n",
       "    <tr>\n",
       "      <th>year</th>\n",
       "      <th></th>\n",
       "      <th></th>\n",
       "      <th></th>\n",
       "    </tr>\n",
       "  </thead>\n",
       "  <tbody>\n",
       "    <tr>\n",
       "      <th>1994</th>\n",
       "      <td>24.0</td>\n",
       "      <td>5.4</td>\n",
       "      <td>Priya</td>\n",
       "    </tr>\n",
       "    <tr>\n",
       "      <th>1995</th>\n",
       "      <td>56.0</td>\n",
       "      <td>NaN</td>\n",
       "      <td>Arnab</td>\n",
       "    </tr>\n",
       "    <tr>\n",
       "      <th>2000</th>\n",
       "      <td>NaN</td>\n",
       "      <td>4.9</td>\n",
       "      <td>Rishi</td>\n",
       "    </tr>\n",
       "    <tr>\n",
       "      <th>1997</th>\n",
       "      <td>76.0</td>\n",
       "      <td>6.0</td>\n",
       "      <td>Konark</td>\n",
       "    </tr>\n",
       "    <tr>\n",
       "      <th>2020</th>\n",
       "      <td>NaN</td>\n",
       "      <td>4.0</td>\n",
       "      <td>None</td>\n",
       "    </tr>\n",
       "    <tr>\n",
       "      <th>1874</th>\n",
       "      <td>15.0</td>\n",
       "      <td>NaN</td>\n",
       "      <td>Kisha</td>\n",
       "    </tr>\n",
       "    <tr>\n",
       "      <th>2020</th>\n",
       "      <td>30.0</td>\n",
       "      <td>NaN</td>\n",
       "      <td>Radha</td>\n",
       "    </tr>\n",
       "    <tr>\n",
       "      <th>1976</th>\n",
       "      <td>NaN</td>\n",
       "      <td>NaN</td>\n",
       "      <td>None,</td>\n",
       "    </tr>\n",
       "  </tbody>\n",
       "</table>\n",
       "</div>"
      ],
      "text/plain": [
       "      ages  height    Name\n",
       "year                      \n",
       "1994  24.0     5.4   Priya\n",
       "1995  56.0     NaN   Arnab\n",
       "2000   NaN     4.9   Rishi\n",
       "1997  76.0     6.0  Konark\n",
       "2020   NaN     4.0    None\n",
       "1874  15.0     NaN   Kisha\n",
       "2020  30.0     NaN   Radha\n",
       "1976   NaN     NaN   None,"
      ]
     },
     "execution_count": 174,
     "metadata": {},
     "output_type": "execute_result"
    }
   ],
   "source": [
    "import pandas as pd\n",
    "import numpy as np\n",
    "\n",
    "data = {\n",
    "    \"year\": [1994, 1995, 2000, 1997, 2020,1874,2020,1976],\n",
    "    \"ages\": [24, 56, None, 76, None,15,30,None],  # Representing missing values as None\n",
    "    \"height\": [5.4, None, 4.9, 6.0, 4.0,None,None,None],  # Representing missing values as None\n",
    "    \"Name\": [\"Priya\", \"Arnab\", \"Rishi\", \"Konark\", None,\"Kisha\",\"Radha\",\"None,\"],  # Representing missing values as None\n",
    "}\n",
    "\n",
    "df = pd.DataFrame(data).set_index(\"year\")\n",
    "df"
   ]
  },
  {
   "cell_type": "code",
   "execution_count": 176,
   "metadata": {},
   "outputs": [
    {
     "data": {
      "text/plain": [
       "<AxesSubplot:>"
      ]
     },
     "execution_count": 176,
     "metadata": {},
     "output_type": "execute_result"
    },
    {
     "data": {
      "image/png": "[encoded data removed]",
      "text/plain": [
       "<Figure size 432x288 with 1 Axes>"
      ]
     },
     "metadata": {
      "needs_background": "light"
     },
     "output_type": "display_data"
    }
   ],
   "source": [
    "df[\"ages\"].hist(bins=25)"
   ]
  },
  {
   "cell_type": "code",
   "execution_count": 177,
   "metadata": {},
   "outputs": [],
   "source": [
    "def impute_na(df,var):\n",
    "    df[var+\"_hundred\"]=df[var].fillna(100)"
   ]
  },
  {
   "cell_type": "code",
   "execution_count": 180,
   "metadata": {},
   "outputs": [],
   "source": [
    "impute_na(df,\"ages\")"
   ]
  },
  {
   "cell_type": "code",
   "execution_count": 181,
   "metadata": {},
   "outputs": [
    {
     "data": {
      "text/html": [
       "<div>\n",
       "<style scoped>\n",
       "    .dataframe tbody tr th:only-of-type {\n",
       "        vertical-align: middle;\n",
       "    }\n",
       "\n",
       "    .dataframe tbody tr th {\n",
       "        vertical-align: top;\n",
       "    }\n",
       "\n",
       "    .dataframe thead th {\n",
       "        text-align: right;\n",
       "    }\n",
       "</style>\n",
       "<table border=\"1\" class=\"dataframe\">\n",
       "  <thead>\n",
       "    <tr style=\"text-align: right;\">\n",
       "      <th></th>\n",
       "      <th>ages</th>\n",
       "      <th>height</th>\n",
       "      <th>Name</th>\n",
       "      <th>ages_hundred</th>\n",
       "    </tr>\n",
       "    <tr>\n",
       "      <th>year</th>\n",
       "      <th></th>\n",
       "      <th></th>\n",
       "      <th></th>\n",
       "      <th></th>\n",
       "    </tr>\n",
       "  </thead>\n",
       "  <tbody>\n",
       "    <tr>\n",
       "      <th>1994</th>\n",
       "      <td>24.0</td>\n",
       "      <td>5.4</td>\n",
       "      <td>Priya</td>\n",
       "      <td>24.0</td>\n",
       "    </tr>\n",
       "    <tr>\n",
       "      <th>1995</th>\n",
       "      <td>56.0</td>\n",
       "      <td>NaN</td>\n",
       "      <td>Arnab</td>\n",
       "      <td>56.0</td>\n",
       "    </tr>\n",
       "    <tr>\n",
       "      <th>2000</th>\n",
       "      <td>NaN</td>\n",
       "      <td>4.9</td>\n",
       "      <td>Rishi</td>\n",
       "      <td>100.0</td>\n",
       "    </tr>\n",
       "    <tr>\n",
       "      <th>1997</th>\n",
       "      <td>76.0</td>\n",
       "      <td>6.0</td>\n",
       "      <td>Konark</td>\n",
       "      <td>76.0</td>\n",
       "    </tr>\n",
       "    <tr>\n",
       "      <th>2020</th>\n",
       "      <td>NaN</td>\n",
       "      <td>4.0</td>\n",
       "      <td>None</td>\n",
       "      <td>100.0</td>\n",
       "    </tr>\n",
       "    <tr>\n",
       "      <th>1874</th>\n",
       "      <td>15.0</td>\n",
       "      <td>NaN</td>\n",
       "      <td>Kisha</td>\n",
       "      <td>15.0</td>\n",
       "    </tr>\n",
       "    <tr>\n",
       "      <th>2020</th>\n",
       "      <td>30.0</td>\n",
       "      <td>NaN</td>\n",
       "      <td>Radha</td>\n",
       "      <td>30.0</td>\n",
       "    </tr>\n",
       "    <tr>\n",
       "      <th>1976</th>\n",
       "      <td>NaN</td>\n",
       "      <td>NaN</td>\n",
       "      <td>None,</td>\n",
       "      <td>100.0</td>\n",
       "    </tr>\n",
       "  </tbody>\n",
       "</table>\n",
       "</div>"
      ],
      "text/plain": [
       "      ages  height    Name  ages_hundred\n",
       "year                                    \n",
       "1994  24.0     5.4   Priya          24.0\n",
       "1995  56.0     NaN   Arnab          56.0\n",
       "2000   NaN     4.9   Rishi         100.0\n",
       "1997  76.0     6.0  Konark          76.0\n",
       "2020   NaN     4.0    None         100.0\n",
       "1874  15.0     NaN   Kisha          15.0\n",
       "2020  30.0     NaN   Radha          30.0\n",
       "1976   NaN     NaN   None,         100.0"
      ]
     },
     "execution_count": 181,
     "metadata": {},
     "output_type": "execute_result"
    }
   ],
   "source": [
    "df"
   ]
  },
  {
   "cell_type": "markdown",
   "metadata": {},
   "source": [
    "Advantages:\n",
    "   1. Easy to implement\n",
    "   2. capture the importance of missing value\n",
    "   \n",
    "Disadvantages:\n",
    "   1. distortion of original distribution\n",
    "   2. Hard to decide which value to use"
   ]
  },
  {
   "cell_type": "raw",
   "metadata": {},
   "source": []
  },
  {
   "cell_type": "raw",
   "metadata": {},
   "source": []
  },
  {
   "cell_type": "raw",
   "metadata": {},
   "source": []
  },
  {
   "cell_type": "markdown",
   "metadata": {},
   "source": [
    "# Missing value Imputation For Categorical Variable:"
   ]
  },
  {
   "cell_type": "markdown",
   "metadata": {},
   "source": [
    "1. Frequent Category Imputation\n",
    "2. Adding a var to the place of NAN value"
   ]
  },
  {
   "cell_type": "markdown",
   "metadata": {},
   "source": [
    "#### 1. Frequent Category Imputation"
   ]
  },
  {
   "cell_type": "code",
   "execution_count": 184,
   "metadata": {},
   "outputs": [
    {
     "data": {
      "text/html": [
       "<div>\n",
       "<style scoped>\n",
       "    .dataframe tbody tr th:only-of-type {\n",
       "        vertical-align: middle;\n",
       "    }\n",
       "\n",
       "    .dataframe tbody tr th {\n",
       "        vertical-align: top;\n",
       "    }\n",
       "\n",
       "    .dataframe thead th {\n",
       "        text-align: right;\n",
       "    }\n",
       "</style>\n",
       "<table border=\"1\" class=\"dataframe\">\n",
       "  <thead>\n",
       "    <tr style=\"text-align: right;\">\n",
       "      <th></th>\n",
       "      <th>sex</th>\n",
       "      <th>syb</th>\n",
       "      <th>Name</th>\n",
       "    </tr>\n",
       "    <tr>\n",
       "      <th>year</th>\n",
       "      <th></th>\n",
       "      <th></th>\n",
       "      <th></th>\n",
       "    </tr>\n",
       "  </thead>\n",
       "  <tbody>\n",
       "    <tr>\n",
       "      <th>1994</th>\n",
       "      <td>M</td>\n",
       "      <td>y</td>\n",
       "      <td>Priya</td>\n",
       "    </tr>\n",
       "    <tr>\n",
       "      <th>1995</th>\n",
       "      <td>None</td>\n",
       "      <td>None</td>\n",
       "      <td>Arnab</td>\n",
       "    </tr>\n",
       "    <tr>\n",
       "      <th>2000</th>\n",
       "      <td>F</td>\n",
       "      <td>N</td>\n",
       "      <td>Rishi</td>\n",
       "    </tr>\n",
       "    <tr>\n",
       "      <th>1997</th>\n",
       "      <td>F</td>\n",
       "      <td>None</td>\n",
       "      <td>Konark</td>\n",
       "    </tr>\n",
       "    <tr>\n",
       "      <th>2020</th>\n",
       "      <td>F</td>\n",
       "      <td>Y</td>\n",
       "      <td>None</td>\n",
       "    </tr>\n",
       "    <tr>\n",
       "      <th>1874</th>\n",
       "      <td>None</td>\n",
       "      <td>None</td>\n",
       "      <td>Kisha</td>\n",
       "    </tr>\n",
       "    <tr>\n",
       "      <th>2020</th>\n",
       "      <td>None</td>\n",
       "      <td>None</td>\n",
       "      <td>Radha</td>\n",
       "    </tr>\n",
       "    <tr>\n",
       "      <th>1976</th>\n",
       "      <td>M</td>\n",
       "      <td>None</td>\n",
       "      <td>None</td>\n",
       "    </tr>\n",
       "    <tr>\n",
       "      <th>2022</th>\n",
       "      <td>F</td>\n",
       "      <td>N</td>\n",
       "      <td>Raja</td>\n",
       "    </tr>\n",
       "    <tr>\n",
       "      <th>1943</th>\n",
       "      <td>None</td>\n",
       "      <td>None</td>\n",
       "      <td>Krish</td>\n",
       "    </tr>\n",
       "    <tr>\n",
       "      <th>1994</th>\n",
       "      <td>M</td>\n",
       "      <td>None</td>\n",
       "      <td>None</td>\n",
       "    </tr>\n",
       "    <tr>\n",
       "      <th>2006</th>\n",
       "      <td>F</td>\n",
       "      <td>None</td>\n",
       "      <td>Riya</td>\n",
       "    </tr>\n",
       "  </tbody>\n",
       "</table>\n",
       "</div>"
      ],
      "text/plain": [
       "       sex   syb    Name\n",
       "year                    \n",
       "1994     M     y   Priya\n",
       "1995  None  None   Arnab\n",
       "2000     F     N   Rishi\n",
       "1997     F  None  Konark\n",
       "2020     F     Y    None\n",
       "1874  None  None   Kisha\n",
       "2020  None  None   Radha\n",
       "1976     M  None    None\n",
       "2022     F     N    Raja\n",
       "1943  None  None   Krish\n",
       "1994     M  None    None\n",
       "2006     F  None    Riya"
      ]
     },
     "execution_count": 184,
     "metadata": {},
     "output_type": "execute_result"
    }
   ],
   "source": [
    "import pandas as pd\n",
    "import numpy as np\n",
    "\n",
    "data = {\n",
    "    \"year\": [1994, 1995, 2000, 1997, 2020,1874,2020,1976,2022,1943,1994,2006],\n",
    "    \"sex\": [\"M\",None, \"F\",\"F\",\"F\",None,None,\"M\",\"F\",None,\"M\",\"F\"],  # Representing missing values as None\n",
    "    \"syb\": [\"y\", None, \"N\", None, \"Y\",None,None,None,\"N\",None,None,None],  # Representing missing values as None\n",
    "    \"Name\": [\"Priya\", \"Arnab\", \"Rishi\", \"Konark\", None,\"Kisha\",\"Radha\",None,\"Raja\",\"Krish\",None,\"Riya\"],  # Representing missing values as None\n",
    "}\n",
    "\n",
    "df = pd.DataFrame(data).set_index(\"year\")\n",
    "df"
   ]
  },
  {
   "cell_type": "code",
   "execution_count": 187,
   "metadata": {},
   "outputs": [
    {
     "data": {
      "text/plain": [
       "sex     4\n",
       "syb     8\n",
       "Name    3\n",
       "dtype: int64"
      ]
     },
     "execution_count": 187,
     "metadata": {},
     "output_type": "execute_result"
    }
   ],
   "source": [
    "df.isnull().sum()"
   ]
  },
  {
   "cell_type": "code",
   "execution_count": 197,
   "metadata": {},
   "outputs": [
    {
     "data": {
      "text/plain": [
       "F    5\n",
       "M    3\n",
       "Name: sex, dtype: int64"
      ]
     },
     "execution_count": 197,
     "metadata": {},
     "output_type": "execute_result"
    }
   ],
   "source": [
    "df[\"sex\"].value_counts() # F is most frequent one"
   ]
  },
  {
   "cell_type": "code",
   "execution_count": 205,
   "metadata": {},
   "outputs": [
    {
     "data": {
      "text/plain": [
       "'F'"
      ]
     },
     "execution_count": 205,
     "metadata": {},
     "output_type": "execute_result"
    }
   ],
   "source": [
    "df[\"sex\"].value_counts().index[0] # Fetching the most frequent category name "
   ]
  },
  {
   "cell_type": "code",
   "execution_count": 210,
   "metadata": {},
   "outputs": [
    {
     "data": {
      "text/plain": [
       "'F'"
      ]
     },
     "execution_count": 210,
     "metadata": {},
     "output_type": "execute_result"
    }
   ],
   "source": [
    "df[\"sex\"].mode()[0]# Fetching the most frequent category name (another way to do that)"
   ]
  },
  {
   "cell_type": "code",
   "execution_count": 215,
   "metadata": {},
   "outputs": [
    {
     "data": {
      "text/plain": [
       "'F'"
      ]
     },
     "execution_count": 215,
     "metadata": {},
     "output_type": "execute_result"
    }
   ],
   "source": [
    "df.groupby(\"sex\")[\"sex\"].count().index[0] # Fetching the most frequent category name (another way to do that)"
   ]
  },
  {
   "cell_type": "code",
   "execution_count": 216,
   "metadata": {},
   "outputs": [],
   "source": [
    "#creating the function for imputation\n",
    "def impute_na(df,var):\n",
    "    most_freq_cat=df[\"sex\"].mode()[0]\n",
    "    df[var+\"_na\"]=df[var].fillna(most_freq_cat)"
   ]
  },
  {
   "cell_type": "code",
   "execution_count": 217,
   "metadata": {},
   "outputs": [],
   "source": [
    "impute_na(df,\"sex\")"
   ]
  },
  {
   "cell_type": "code",
   "execution_count": 218,
   "metadata": {},
   "outputs": [
    {
     "data": {
      "text/html": [
       "<div>\n",
       "<style scoped>\n",
       "    .dataframe tbody tr th:only-of-type {\n",
       "        vertical-align: middle;\n",
       "    }\n",
       "\n",
       "    .dataframe tbody tr th {\n",
       "        vertical-align: top;\n",
       "    }\n",
       "\n",
       "    .dataframe thead th {\n",
       "        text-align: right;\n",
       "    }\n",
       "</style>\n",
       "<table border=\"1\" class=\"dataframe\">\n",
       "  <thead>\n",
       "    <tr style=\"text-align: right;\">\n",
       "      <th></th>\n",
       "      <th>sex</th>\n",
       "      <th>syb</th>\n",
       "      <th>Name</th>\n",
       "      <th>sex_na</th>\n",
       "    </tr>\n",
       "    <tr>\n",
       "      <th>year</th>\n",
       "      <th></th>\n",
       "      <th></th>\n",
       "      <th></th>\n",
       "      <th></th>\n",
       "    </tr>\n",
       "  </thead>\n",
       "  <tbody>\n",
       "    <tr>\n",
       "      <th>1994</th>\n",
       "      <td>M</td>\n",
       "      <td>y</td>\n",
       "      <td>Priya</td>\n",
       "      <td>M</td>\n",
       "    </tr>\n",
       "    <tr>\n",
       "      <th>1995</th>\n",
       "      <td>None</td>\n",
       "      <td>None</td>\n",
       "      <td>Arnab</td>\n",
       "      <td>F</td>\n",
       "    </tr>\n",
       "    <tr>\n",
       "      <th>2000</th>\n",
       "      <td>F</td>\n",
       "      <td>N</td>\n",
       "      <td>Rishi</td>\n",
       "      <td>F</td>\n",
       "    </tr>\n",
       "    <tr>\n",
       "      <th>1997</th>\n",
       "      <td>F</td>\n",
       "      <td>None</td>\n",
       "      <td>Konark</td>\n",
       "      <td>F</td>\n",
       "    </tr>\n",
       "    <tr>\n",
       "      <th>2020</th>\n",
       "      <td>F</td>\n",
       "      <td>Y</td>\n",
       "      <td>None</td>\n",
       "      <td>F</td>\n",
       "    </tr>\n",
       "    <tr>\n",
       "      <th>1874</th>\n",
       "      <td>None</td>\n",
       "      <td>None</td>\n",
       "      <td>Kisha</td>\n",
       "      <td>F</td>\n",
       "    </tr>\n",
       "    <tr>\n",
       "      <th>2020</th>\n",
       "      <td>None</td>\n",
       "      <td>None</td>\n",
       "      <td>Radha</td>\n",
       "      <td>F</td>\n",
       "    </tr>\n",
       "    <tr>\n",
       "      <th>1976</th>\n",
       "      <td>M</td>\n",
       "      <td>None</td>\n",
       "      <td>None</td>\n",
       "      <td>M</td>\n",
       "    </tr>\n",
       "    <tr>\n",
       "      <th>2022</th>\n",
       "      <td>F</td>\n",
       "      <td>N</td>\n",
       "      <td>Raja</td>\n",
       "      <td>F</td>\n",
       "    </tr>\n",
       "    <tr>\n",
       "      <th>1943</th>\n",
       "      <td>None</td>\n",
       "      <td>None</td>\n",
       "      <td>Krish</td>\n",
       "      <td>F</td>\n",
       "    </tr>\n",
       "    <tr>\n",
       "      <th>1994</th>\n",
       "      <td>M</td>\n",
       "      <td>None</td>\n",
       "      <td>None</td>\n",
       "      <td>M</td>\n",
       "    </tr>\n",
       "    <tr>\n",
       "      <th>2006</th>\n",
       "      <td>F</td>\n",
       "      <td>None</td>\n",
       "      <td>Riya</td>\n",
       "      <td>F</td>\n",
       "    </tr>\n",
       "  </tbody>\n",
       "</table>\n",
       "</div>"
      ],
      "text/plain": [
       "       sex   syb    Name sex_na\n",
       "year                           \n",
       "1994     M     y   Priya      M\n",
       "1995  None  None   Arnab      F\n",
       "2000     F     N   Rishi      F\n",
       "1997     F  None  Konark      F\n",
       "2020     F     Y    None      F\n",
       "1874  None  None   Kisha      F\n",
       "2020  None  None   Radha      F\n",
       "1976     M  None    None      M\n",
       "2022     F     N    Raja      F\n",
       "1943  None  None   Krish      F\n",
       "1994     M  None    None      M\n",
       "2006     F  None    Riya      F"
      ]
     },
     "execution_count": 218,
     "metadata": {},
     "output_type": "execute_result"
    }
   ],
   "source": [
    "df"
   ]
  },
  {
   "cell_type": "markdown",
   "metadata": {},
   "source": [
    "#### Most Frequent Imputation\n",
    "#### Advantages:\n",
    "1. Easy to imputation\n",
    "2. Faster to implement\n",
    "\n",
    "#### Disadvantages:\n",
    "1. Distortion of relation of frequent label\n",
    "2. When more missing value is present, it use more frequent label in over represented way"
   ]
  },
  {
   "cell_type": "markdown",
   "metadata": {},
   "source": [
    "#### 2. Adding a var to the place of NAN value"
   ]
  },
  {
   "cell_type": "code",
   "execution_count": 219,
   "metadata": {},
   "outputs": [],
   "source": [
    "def imupute_na_var(df,var):\n",
    "    df[var+\"nan\"]=np.where(df[var].isnull(),1,0)\n",
    "    most_freq=df[var].mode()[0]\n",
    "    df[var]=df[var].fillna(most_freq)"
   ]
  },
  {
   "cell_type": "code",
   "execution_count": 220,
   "metadata": {},
   "outputs": [],
   "source": [
    "imupute_na_var(df,\"sex\")"
   ]
  },
  {
   "cell_type": "code",
   "execution_count": 221,
   "metadata": {},
   "outputs": [
    {
     "data": {
      "text/html": [
       "<div>\n",
       "<style scoped>\n",
       "    .dataframe tbody tr th:only-of-type {\n",
       "        vertical-align: middle;\n",
       "    }\n",
       "\n",
       "    .dataframe tbody tr th {\n",
       "        vertical-align: top;\n",
       "    }\n",
       "\n",
       "    .dataframe thead th {\n",
       "        text-align: right;\n",
       "    }\n",
       "</style>\n",
       "<table border=\"1\" class=\"dataframe\">\n",
       "  <thead>\n",
       "    <tr style=\"text-align: right;\">\n",
       "      <th></th>\n",
       "      <th>sex</th>\n",
       "      <th>syb</th>\n",
       "      <th>Name</th>\n",
       "      <th>sex_na</th>\n",
       "      <th>sexnan</th>\n",
       "    </tr>\n",
       "    <tr>\n",
       "      <th>year</th>\n",
       "      <th></th>\n",
       "      <th></th>\n",
       "      <th></th>\n",
       "      <th></th>\n",
       "      <th></th>\n",
       "    </tr>\n",
       "  </thead>\n",
       "  <tbody>\n",
       "    <tr>\n",
       "      <th>1994</th>\n",
       "      <td>M</td>\n",
       "      <td>y</td>\n",
       "      <td>Priya</td>\n",
       "      <td>M</td>\n",
       "      <td>0</td>\n",
       "    </tr>\n",
       "    <tr>\n",
       "      <th>1995</th>\n",
       "      <td>F</td>\n",
       "      <td>None</td>\n",
       "      <td>Arnab</td>\n",
       "      <td>F</td>\n",
       "      <td>1</td>\n",
       "    </tr>\n",
       "    <tr>\n",
       "      <th>2000</th>\n",
       "      <td>F</td>\n",
       "      <td>N</td>\n",
       "      <td>Rishi</td>\n",
       "      <td>F</td>\n",
       "      <td>0</td>\n",
       "    </tr>\n",
       "    <tr>\n",
       "      <th>1997</th>\n",
       "      <td>F</td>\n",
       "      <td>None</td>\n",
       "      <td>Konark</td>\n",
       "      <td>F</td>\n",
       "      <td>0</td>\n",
       "    </tr>\n",
       "    <tr>\n",
       "      <th>2020</th>\n",
       "      <td>F</td>\n",
       "      <td>Y</td>\n",
       "      <td>None</td>\n",
       "      <td>F</td>\n",
       "      <td>0</td>\n",
       "    </tr>\n",
       "    <tr>\n",
       "      <th>1874</th>\n",
       "      <td>F</td>\n",
       "      <td>None</td>\n",
       "      <td>Kisha</td>\n",
       "      <td>F</td>\n",
       "      <td>1</td>\n",
       "    </tr>\n",
       "    <tr>\n",
       "      <th>2020</th>\n",
       "      <td>F</td>\n",
       "      <td>None</td>\n",
       "      <td>Radha</td>\n",
       "      <td>F</td>\n",
       "      <td>1</td>\n",
       "    </tr>\n",
       "    <tr>\n",
       "      <th>1976</th>\n",
       "      <td>M</td>\n",
       "      <td>None</td>\n",
       "      <td>None</td>\n",
       "      <td>M</td>\n",
       "      <td>0</td>\n",
       "    </tr>\n",
       "    <tr>\n",
       "      <th>2022</th>\n",
       "      <td>F</td>\n",
       "      <td>N</td>\n",
       "      <td>Raja</td>\n",
       "      <td>F</td>\n",
       "      <td>0</td>\n",
       "    </tr>\n",
       "    <tr>\n",
       "      <th>1943</th>\n",
       "      <td>F</td>\n",
       "      <td>None</td>\n",
       "      <td>Krish</td>\n",
       "      <td>F</td>\n",
       "      <td>1</td>\n",
       "    </tr>\n",
       "    <tr>\n",
       "      <th>1994</th>\n",
       "      <td>M</td>\n",
       "      <td>None</td>\n",
       "      <td>None</td>\n",
       "      <td>M</td>\n",
       "      <td>0</td>\n",
       "    </tr>\n",
       "    <tr>\n",
       "      <th>2006</th>\n",
       "      <td>F</td>\n",
       "      <td>None</td>\n",
       "      <td>Riya</td>\n",
       "      <td>F</td>\n",
       "      <td>0</td>\n",
       "    </tr>\n",
       "  </tbody>\n",
       "</table>\n",
       "</div>"
      ],
      "text/plain": [
       "     sex   syb    Name sex_na  sexnan\n",
       "year                                 \n",
       "1994   M     y   Priya      M       0\n",
       "1995   F  None   Arnab      F       1\n",
       "2000   F     N   Rishi      F       0\n",
       "1997   F  None  Konark      F       0\n",
       "2020   F     Y    None      F       0\n",
       "1874   F  None   Kisha      F       1\n",
       "2020   F  None   Radha      F       1\n",
       "1976   M  None    None      M       0\n",
       "2022   F     N    Raja      F       0\n",
       "1943   F  None   Krish      F       1\n",
       "1994   M  None    None      M       0\n",
       "2006   F  None    Riya      F       0"
      ]
     },
     "execution_count": 221,
     "metadata": {},
     "output_type": "execute_result"
    }
   ],
   "source": [
    "df"
   ]
  },
  {
   "cell_type": "markdown",
   "metadata": {},
   "source": [
    "Advantages:\n",
    "    1. Capture the importance of missing value\n",
    "    \n",
    "Disadvantages:\n",
    "    1. lead to increase number of features, i.e., causeing curse of dimention"
   ]
  },
  {
   "cell_type": "markdown",
   "metadata": {},
   "source": [
    "#### Replacing NAN with other category\n",
    "( here we are treating Nan as a different set of category. This is useful when Count of Nan is high)"
   ]
  },
  {
   "cell_type": "code",
   "execution_count": 223,
   "metadata": {},
   "outputs": [
    {
     "data": {
      "text/html": [
       "<div>\n",
       "<style scoped>\n",
       "    .dataframe tbody tr th:only-of-type {\n",
       "        vertical-align: middle;\n",
       "    }\n",
       "\n",
       "    .dataframe tbody tr th {\n",
       "        vertical-align: top;\n",
       "    }\n",
       "\n",
       "    .dataframe thead th {\n",
       "        text-align: right;\n",
       "    }\n",
       "</style>\n",
       "<table border=\"1\" class=\"dataframe\">\n",
       "  <thead>\n",
       "    <tr style=\"text-align: right;\">\n",
       "      <th></th>\n",
       "      <th>sex</th>\n",
       "      <th>syb</th>\n",
       "      <th>Name</th>\n",
       "    </tr>\n",
       "    <tr>\n",
       "      <th>year</th>\n",
       "      <th></th>\n",
       "      <th></th>\n",
       "      <th></th>\n",
       "    </tr>\n",
       "  </thead>\n",
       "  <tbody>\n",
       "    <tr>\n",
       "      <th>1994</th>\n",
       "      <td>M</td>\n",
       "      <td>y</td>\n",
       "      <td>Priya</td>\n",
       "    </tr>\n",
       "    <tr>\n",
       "      <th>1995</th>\n",
       "      <td>None</td>\n",
       "      <td>None</td>\n",
       "      <td>Arnab</td>\n",
       "    </tr>\n",
       "    <tr>\n",
       "      <th>2000</th>\n",
       "      <td>F</td>\n",
       "      <td>N</td>\n",
       "      <td>Rishi</td>\n",
       "    </tr>\n",
       "    <tr>\n",
       "      <th>1997</th>\n",
       "      <td>F</td>\n",
       "      <td>None</td>\n",
       "      <td>Konark</td>\n",
       "    </tr>\n",
       "    <tr>\n",
       "      <th>2020</th>\n",
       "      <td>F</td>\n",
       "      <td>Y</td>\n",
       "      <td>None</td>\n",
       "    </tr>\n",
       "    <tr>\n",
       "      <th>1874</th>\n",
       "      <td>None</td>\n",
       "      <td>None</td>\n",
       "      <td>Kisha</td>\n",
       "    </tr>\n",
       "    <tr>\n",
       "      <th>2020</th>\n",
       "      <td>None</td>\n",
       "      <td>None</td>\n",
       "      <td>Radha</td>\n",
       "    </tr>\n",
       "    <tr>\n",
       "      <th>1976</th>\n",
       "      <td>M</td>\n",
       "      <td>None</td>\n",
       "      <td>None</td>\n",
       "    </tr>\n",
       "    <tr>\n",
       "      <th>2022</th>\n",
       "      <td>F</td>\n",
       "      <td>N</td>\n",
       "      <td>Raja</td>\n",
       "    </tr>\n",
       "    <tr>\n",
       "      <th>1943</th>\n",
       "      <td>None</td>\n",
       "      <td>None</td>\n",
       "      <td>Krish</td>\n",
       "    </tr>\n",
       "    <tr>\n",
       "      <th>1994</th>\n",
       "      <td>M</td>\n",
       "      <td>None</td>\n",
       "      <td>None</td>\n",
       "    </tr>\n",
       "    <tr>\n",
       "      <th>2006</th>\n",
       "      <td>F</td>\n",
       "      <td>None</td>\n",
       "      <td>Riya</td>\n",
       "    </tr>\n",
       "  </tbody>\n",
       "</table>\n",
       "</div>"
      ],
      "text/plain": [
       "       sex   syb    Name\n",
       "year                    \n",
       "1994     M     y   Priya\n",
       "1995  None  None   Arnab\n",
       "2000     F     N   Rishi\n",
       "1997     F  None  Konark\n",
       "2020     F     Y    None\n",
       "1874  None  None   Kisha\n",
       "2020  None  None   Radha\n",
       "1976     M  None    None\n",
       "2022     F     N    Raja\n",
       "1943  None  None   Krish\n",
       "1994     M  None    None\n",
       "2006     F  None    Riya"
      ]
     },
     "execution_count": 223,
     "metadata": {},
     "output_type": "execute_result"
    }
   ],
   "source": [
    "import pandas as pd\n",
    "import numpy as np\n",
    "\n",
    "data = {\n",
    "    \"year\": [1994, 1995, 2000, 1997, 2020,1874,2020,1976,2022,1943,1994,2006],\n",
    "    \"sex\": [\"M\",None, \"F\",\"F\",\"F\",None,None,\"M\",\"F\",None,\"M\",\"F\"],  # Representing missing values as None\n",
    "    \"syb\": [\"y\", None, \"N\", None, \"Y\",None,None,None,\"N\",None,None,None],  # Representing missing values as None\n",
    "    \"Name\": [\"Priya\", \"Arnab\", \"Rishi\", \"Konark\", None,\"Kisha\",\"Radha\",None,\"Raja\",\"Krish\",None,\"Riya\"],  # Representing missing values as None\n",
    "}\n",
    "\n",
    "df = pd.DataFrame(data).set_index(\"year\")\n",
    "df"
   ]
  },
  {
   "cell_type": "code",
   "execution_count": 224,
   "metadata": {},
   "outputs": [],
   "source": [
    "def impute_na_set(df,var):\n",
    "    df[var]=np.where(df[var].isnull(),\"Missing\",df[var])"
   ]
  },
  {
   "cell_type": "code",
   "execution_count": 225,
   "metadata": {},
   "outputs": [],
   "source": [
    "impute_na_set(df,\"syb\")"
   ]
  },
  {
   "cell_type": "code",
   "execution_count": 226,
   "metadata": {},
   "outputs": [
    {
     "data": {
      "text/html": [
       "<div>\n",
       "<style scoped>\n",
       "    .dataframe tbody tr th:only-of-type {\n",
       "        vertical-align: middle;\n",
       "    }\n",
       "\n",
       "    .dataframe tbody tr th {\n",
       "        vertical-align: top;\n",
       "    }\n",
       "\n",
       "    .dataframe thead th {\n",
       "        text-align: right;\n",
       "    }\n",
       "</style>\n",
       "<table border=\"1\" class=\"dataframe\">\n",
       "  <thead>\n",
       "    <tr style=\"text-align: right;\">\n",
       "      <th></th>\n",
       "      <th>sex</th>\n",
       "      <th>syb</th>\n",
       "      <th>Name</th>\n",
       "    </tr>\n",
       "    <tr>\n",
       "      <th>year</th>\n",
       "      <th></th>\n",
       "      <th></th>\n",
       "      <th></th>\n",
       "    </tr>\n",
       "  </thead>\n",
       "  <tbody>\n",
       "    <tr>\n",
       "      <th>1994</th>\n",
       "      <td>M</td>\n",
       "      <td>y</td>\n",
       "      <td>Priya</td>\n",
       "    </tr>\n",
       "    <tr>\n",
       "      <th>1995</th>\n",
       "      <td>None</td>\n",
       "      <td>Missing</td>\n",
       "      <td>Arnab</td>\n",
       "    </tr>\n",
       "    <tr>\n",
       "      <th>2000</th>\n",
       "      <td>F</td>\n",
       "      <td>N</td>\n",
       "      <td>Rishi</td>\n",
       "    </tr>\n",
       "    <tr>\n",
       "      <th>1997</th>\n",
       "      <td>F</td>\n",
       "      <td>Missing</td>\n",
       "      <td>Konark</td>\n",
       "    </tr>\n",
       "    <tr>\n",
       "      <th>2020</th>\n",
       "      <td>F</td>\n",
       "      <td>Y</td>\n",
       "      <td>None</td>\n",
       "    </tr>\n",
       "    <tr>\n",
       "      <th>1874</th>\n",
       "      <td>None</td>\n",
       "      <td>Missing</td>\n",
       "      <td>Kisha</td>\n",
       "    </tr>\n",
       "    <tr>\n",
       "      <th>2020</th>\n",
       "      <td>None</td>\n",
       "      <td>Missing</td>\n",
       "      <td>Radha</td>\n",
       "    </tr>\n",
       "    <tr>\n",
       "      <th>1976</th>\n",
       "      <td>M</td>\n",
       "      <td>Missing</td>\n",
       "      <td>None</td>\n",
       "    </tr>\n",
       "    <tr>\n",
       "      <th>2022</th>\n",
       "      <td>F</td>\n",
       "      <td>N</td>\n",
       "      <td>Raja</td>\n",
       "    </tr>\n",
       "    <tr>\n",
       "      <th>1943</th>\n",
       "      <td>None</td>\n",
       "      <td>Missing</td>\n",
       "      <td>Krish</td>\n",
       "    </tr>\n",
       "    <tr>\n",
       "      <th>1994</th>\n",
       "      <td>M</td>\n",
       "      <td>Missing</td>\n",
       "      <td>None</td>\n",
       "    </tr>\n",
       "    <tr>\n",
       "      <th>2006</th>\n",
       "      <td>F</td>\n",
       "      <td>Missing</td>\n",
       "      <td>Riya</td>\n",
       "    </tr>\n",
       "  </tbody>\n",
       "</table>\n",
       "</div>"
      ],
      "text/plain": [
       "       sex      syb    Name\n",
       "year                       \n",
       "1994     M        y   Priya\n",
       "1995  None  Missing   Arnab\n",
       "2000     F        N   Rishi\n",
       "1997     F  Missing  Konark\n",
       "2020     F        Y    None\n",
       "1874  None  Missing   Kisha\n",
       "2020  None  Missing   Radha\n",
       "1976     M  Missing    None\n",
       "2022     F        N    Raja\n",
       "1943  None  Missing   Krish\n",
       "1994     M  Missing    None\n",
       "2006     F  Missing    Riya"
      ]
     },
     "execution_count": 226,
     "metadata": {},
     "output_type": "execute_result"
    }
   ],
   "source": [
    "df"
   ]
  }
 ],
 "metadata": {
  "kernelspec": {
   "display_name": "Python 3",
   "language": "python",
   "name": "python3"
  },
  "language_info": {
   "codemirror_mode": {
    "name": "ipython",
    "version": 3
   },
   "file_extension": ".py",
   "mimetype": "text/x-python",
   "name": "python",
   "nbconvert_exporter": "python",
   "pygments_lexer": "ipython3",
   "version": "3.8.5"
  }
 },
 "nbformat": 4,
 "nbformat_minor": 4
}
